{
 "cells": [
  {
   "cell_type": "code",
   "execution_count": 1,
   "id": "2b49d808",
   "metadata": {},
   "outputs": [],
   "source": [
    "import math\n",
    "\n",
    "def encrypt(plaintext, key):\n",
    "    ciphertext = [''] * key\n",
    "    for column in range(key):\n",
    "        pointer = column\n",
    "        while pointer < len(plaintext):\n",
    "            ciphertext[column] += plaintext[pointer]\n",
    "            pointer += key\n",
    "    return ''.join(ciphertext)"
   ]
  },
  {
   "cell_type": "code",
   "execution_count": 2,
   "id": "e2d6b35c",
   "metadata": {},
   "outputs": [],
   "source": [
    "def decrypt(ciphertext, key):\n",
    "    plaintext = [''] * math.ceil(len(ciphertext) / key)\n",
    "    numRows = math.ceil(len(ciphertext) / key)\n",
    "    numCols = key\n",
    "    numShaded = (numCols * numRows) - len(ciphertext)\n",
    "    col = 0\n",
    "    row = 0\n",
    "    for symbol in ciphertext:\n",
    "        plaintext[row] += symbol\n",
    "        row += 1\n",
    "        if (row == numRows) or (row == numRows - 1 and col >= numCols - numShaded):\n",
    "            row = 0\n",
    "            col += 1\n",
    "    return ''.join(plaintext)\n"
   ]
  },
  {
   "cell_type": "code",
   "execution_count": 6,
   "id": "bbd3c8fd",
   "metadata": {},
   "outputs": [
    {
     "name": "stdout",
     "output_type": "stream",
     "text": [
      "Plaintext: hello world\n",
      "Ciphertext: hore llwdlo\n",
      "Decrypted text: hello world\n"
     ]
    }
   ],
   "source": [
    "plaintext = \"hello world\"\n",
    "key = 4\n",
    "ciphertext = encrypt(plaintext, key)\n",
    "decrypted_text = decrypt(ciphertext, key)\n",
    "print(f\"Plaintext: {plaintext}\")\n",
    "print(f\"Ciphertext: {ciphertext}\")\n",
    "print(f\"Decrypted text: {decrypted_text}\")"
   ]
  },
  {
   "cell_type": "code",
   "execution_count": null,
   "id": "c63ea69e",
   "metadata": {},
   "outputs": [],
   "source": []
  },
  {
   "cell_type": "code",
   "execution_count": null,
   "id": "f9747193",
   "metadata": {},
   "outputs": [],
   "source": []
  }
 ],
 "metadata": {
  "kernelspec": {
   "display_name": "Python 3 (ipykernel)",
   "language": "python",
   "name": "python3"
  },
  "language_info": {
   "codemirror_mode": {
    "name": "ipython",
    "version": 3
   },
   "file_extension": ".py",
   "mimetype": "text/x-python",
   "name": "python",
   "nbconvert_exporter": "python",
   "pygments_lexer": "ipython3",
   "version": "3.9.13"
  }
 },
 "nbformat": 4,
 "nbformat_minor": 5
}
