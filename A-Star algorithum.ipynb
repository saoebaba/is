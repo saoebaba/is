{
 "cells": [
  {
   "cell_type": "code",
   "execution_count": 1,
   "id": "ef68456c",
   "metadata": {},
   "outputs": [],
   "source": [
    "player, opponent = 'x', 'o'"
   ]
  },
  {
   "cell_type": "code",
   "execution_count": 2,
   "id": "153fdcd5",
   "metadata": {},
   "outputs": [],
   "source": [
    "def isMovesLeft(board) : \n",
    "  \n",
    "    for i in range(3) :\n",
    "        for j in range(3) :\n",
    "            if (board[i][j] == '_') :\n",
    "                return True \n",
    "    return False"
   ]
  },
  {
   "cell_type": "code",
   "execution_count": 3,
   "id": "a6c79c79",
   "metadata": {},
   "outputs": [],
   "source": [
    "def evaluate(b) : \n",
    "    for row in range(3) :     \n",
    "        if (b[row][0] == b[row][1] and b[row][1] == b[row][2]) :        \n",
    "            if (b[row][0] == player) :\n",
    "                return 10\n",
    "            elif (b[row][0] == opponent) :\n",
    "                return -10\n",
    "  \n",
    "\n",
    "    for col in range(3) :\n",
    "       \n",
    "        if (b[0][col] == b[1][col] and b[1][col] == b[2][col]) :\n",
    "          \n",
    "            if (b[0][col] == player) : \n",
    "                return 10\n",
    "            elif (b[0][col] == opponent) :\n",
    "                return -10\n",
    "  \n",
    "\n",
    "    if (b[0][0] == b[1][1] and b[1][1] == b[2][2]) :\n",
    "      \n",
    "        if (b[0][0] == player) :\n",
    "            return 10\n",
    "        elif (b[0][0] == opponent) :\n",
    "            return -10\n",
    "  \n",
    "    if (b[0][2] == b[1][1] and b[1][1] == b[2][0]) :\n",
    "      \n",
    "        if (b[0][2] == player) :\n",
    "            return 10\n",
    "        elif (b[0][2] == opponent) :\n",
    "            return -10\n",
    "  \n",
    "    return 0\n",
    "  "
   ]
  },
  {
   "cell_type": "code",
   "execution_count": 4,
   "id": "006d315b",
   "metadata": {},
   "outputs": [],
   "source": [
    "def minimax(board, depth, isMax) : \n",
    "    score = evaluate(board)\n",
    "    if (score == 10) : \n",
    "        return score\n",
    "    if (score == -10) :\n",
    "        return score\n",
    "    if (isMovesLeft(board) == False) :\n",
    "        return 0\n",
    "    if (isMax) :     \n",
    "        best = -1000 \n",
    "        \n",
    "        for i in range(3) :         \n",
    "            for j in range(3) :\n",
    "                if (board[i][j]=='_') :\n",
    "                    board[i][j] = player \n",
    "                    best = max( best, minimax(board,depth + 1,not isMax) )\n",
    "                    board[i][j] = '_'\n",
    "        return best\n",
    "\n",
    "    else :\n",
    "        best = 1000  \n",
    "        for i in range(3) :         \n",
    "            for j in range(3) :\n",
    "                if (board[i][j] == '_') :\n",
    "                    board[i][j] = opponent \n",
    "                    best = min(best, minimax(board, depth + 1, not isMax))\n",
    "  \n",
    "                  \n",
    "                    board[i][j] = '_'\n",
    "        return best"
   ]
  },
  {
   "cell_type": "code",
   "execution_count": 5,
   "id": "1529b615",
   "metadata": {},
   "outputs": [],
   "source": [
    "def findBestMove(board) : \n",
    "    bestVal = -1000 \n",
    "    bestMove = (-1, -1) \n",
    "  \n",
    "    for i in range(3) :     \n",
    "        for j in range(3) :\n",
    "            if (board[i][j] == '_') :  \n",
    "                board[i][j] = player \n",
    "                moveVal = minimax(board, 0, False) \n",
    "                board[i][j] = '_' \n",
    "                if (moveVal > bestVal) :                \n",
    "                    bestMove = (i, j)\n",
    "                    bestVal = moveVal\n",
    "  \n",
    "    print(\"The value of the best Move is :\", bestVal)\n",
    "    print()\n",
    "    return bestMove"
   ]
  },
  {
   "cell_type": "code",
   "execution_count": 13,
   "id": "46fdff37",
   "metadata": {},
   "outputs": [
    {
     "name": "stdout",
     "output_type": "stream",
     "text": [
      "The value of the best Move is : 10\n",
      "\n",
      "The Optimal Move is :\n",
      "ROW: 2  COL: 2\n"
     ]
    }
   ],
   "source": [
    "board = [\n",
    "    [ 'x', 'o', 'x' ], \n",
    "    [ 'o', 'o', 'x' ], \n",
    "    [ '_', '_', '_' ] \n",
    "]\n",
    "  \n",
    "bestMove = findBestMove(board) \n",
    "  \n",
    "print(\"The Optimal Move is :\") \n",
    "print(\"ROW:\", bestMove[0], \" COL:\", bestMove[1])"
   ]
  }
 ],
 "metadata": {
  "kernelspec": {
   "display_name": "Python 3 (ipykernel)",
   "language": "python",
   "name": "python3"
  },
  "language_info": {
   "codemirror_mode": {
    "name": "ipython",
    "version": 3
   },
   "file_extension": ".py",
   "mimetype": "text/x-python",
   "name": "python",
   "nbconvert_exporter": "python",
   "pygments_lexer": "ipython3",
   "version": "3.9.13"
  }
 },
 "nbformat": 4,
 "nbformat_minor": 5
}
