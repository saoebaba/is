{
 "cells": [
  {
   "cell_type": "code",
   "execution_count": 1,
   "id": "20e4cf4b",
   "metadata": {},
   "outputs": [
    {
     "name": "stdout",
     "output_type": "stream",
     "text": [
      "Enter the string : shrihari\n",
      "AND operation :\n",
      "shrihariXOR operation :\n",
      "\u0016\u0017\u001e"
     ]
    }
   ],
   "source": [
    "word=input(\"Enter the string : \")\n",
    "# AND operation\n",
    "print(\"AND operation :\")\n",
    "for x in word:\n",
    "    AND_string=ord(x)&127\n",
    "    print(chr(AND_string),end=\"\")\n",
    "\n",
    "# XOR operation\n",
    "print(\"XOR operation :\")\n",
    "for x in word:\n",
    "    XOR_string=ord(x)^127\n",
    "    print(chr(XOR_string),end=\"\")\n"
   ]
  },
  {
   "cell_type": "code",
   "execution_count": null,
   "id": "a20c92cc",
   "metadata": {},
   "outputs": [],
   "source": []
  },
  {
   "cell_type": "code",
   "execution_count": null,
   "id": "a4268ca2",
   "metadata": {},
   "outputs": [],
   "source": []
  }
 ],
 "metadata": {
  "kernelspec": {
   "display_name": "Python 3 (ipykernel)",
   "language": "python",
   "name": "python3"
  },
  "language_info": {
   "codemirror_mode": {
    "name": "ipython",
    "version": 3
   },
   "file_extension": ".py",
   "mimetype": "text/x-python",
   "name": "python",
   "nbconvert_exporter": "python",
   "pygments_lexer": "ipython3",
   "version": "3.9.13"
  }
 },
 "nbformat": 4,
 "nbformat_minor": 5
}
