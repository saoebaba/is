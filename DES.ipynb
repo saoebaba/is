{
 "cells": [
  {
   "cell_type": "code",
   "execution_count": 2,
   "id": "faf88bc0",
   "metadata": {},
   "outputs": [
    {
     "ename": "ModuleNotFoundError",
     "evalue": "No module named 'Crypto'",
     "output_type": "error",
     "traceback": [
      "\u001b[1;31m---------------------------------------------------------------------------\u001b[0m",
      "\u001b[1;31mModuleNotFoundError\u001b[0m                       Traceback (most recent call last)",
      "\u001b[1;32m~\\AppData\\Local\\Temp\\ipykernel_18940\\1491049106.py\u001b[0m in \u001b[0;36m<module>\u001b[1;34m\u001b[0m\n\u001b[0;32m      1\u001b[0m \u001b[1;31m# Note : pip install pyDES\u001b[0m\u001b[1;33m\u001b[0m\u001b[1;33m\u001b[0m\u001b[0m\n\u001b[1;32m----> 2\u001b[1;33m \u001b[1;32mfrom\u001b[0m \u001b[0mCrypto\u001b[0m\u001b[1;33m.\u001b[0m\u001b[0mCipher\u001b[0m \u001b[1;32mimport\u001b[0m \u001b[0mDES\u001b[0m\u001b[1;33m\u001b[0m\u001b[1;33m\u001b[0m\u001b[0m\n\u001b[0m\u001b[0;32m      3\u001b[0m \u001b[1;32mfrom\u001b[0m \u001b[0mCrypto\u001b[0m\u001b[1;33m.\u001b[0m\u001b[0mUtil\u001b[0m\u001b[1;33m.\u001b[0m\u001b[0mPadding\u001b[0m \u001b[1;32mimport\u001b[0m \u001b[0mpad\u001b[0m\u001b[1;33m,\u001b[0m \u001b[0munpad\u001b[0m\u001b[1;33m\u001b[0m\u001b[1;33m\u001b[0m\u001b[0m\n\u001b[0;32m      4\u001b[0m \u001b[0mkey\u001b[0m \u001b[1;33m=\u001b[0m \u001b[1;34mb'98487586'\u001b[0m\u001b[1;33m\u001b[0m\u001b[1;33m\u001b[0m\u001b[0m\n\u001b[0;32m      5\u001b[0m \u001b[0mdata\u001b[0m \u001b[1;33m=\u001b[0m \u001b[1;34mb'sinhgad academy'\u001b[0m\u001b[1;33m\u001b[0m\u001b[1;33m\u001b[0m\u001b[0m\n",
      "\u001b[1;31mModuleNotFoundError\u001b[0m: No module named 'Crypto'"
     ]
    }
   ],
   "source": [
    "# Note : pip install pyDES \n",
    "from Crypto.Cipher import DES\n",
    "from Crypto.Util.Padding import pad, unpad\n",
    "key = b'98487586'\n",
    "data = b'sinhgad academy'\n",
    "padded_data = pad(data, DES.block_size)\n",
    "\n",
    "cipher = DES.new(key, DES.MODE_ECB)\n",
    "\n",
    "encrypted_data = cipher.encrypt(padded_data)\n",
    "\n",
    "decrypted_data = cipher.decrypt(encrypted_data)\n",
    "\n",
    "unpadded_data = unpad(decrypted_data, DES.block_size)\n",
    "\n",
    "print(\"Original Data:\", data)\n",
    "print(\"Padded Data:\", padded_data)\n",
    "print(\"Encrypted Data:\", encrypted_data)\n",
    "print(\"Decrypted Data:\", decrypted_data)\n",
    "print(\"Unpadded Data:\",unpadded_data)"
   ]
  }
 ],
 "metadata": {
  "kernelspec": {
   "display_name": "Python 3 (ipykernel)",
   "language": "python",
   "name": "python3"
  },
  "language_info": {
   "codemirror_mode": {
    "name": "ipython",
    "version": 3
   },
   "file_extension": ".py",
   "mimetype": "text/x-python",
   "name": "python",
   "nbconvert_exporter": "python",
   "pygments_lexer": "ipython3",
   "version": "3.9.13"
  }
 },
 "nbformat": 4,
 "nbformat_minor": 5
}
