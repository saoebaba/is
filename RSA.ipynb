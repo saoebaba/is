{
 "cells": [
  {
   "cell_type": "code",
   "execution_count": 5,
   "id": "b4db9f9e",
   "metadata": {},
   "outputs": [
    {
     "name": "stdout",
     "output_type": "stream",
     "text": [
      " p :15\n",
      " q :17\n",
      "Public Key (e,n) : (224,255)\n",
      "Private Key (d,n) : (2,255)\n",
      "Enter you Message : shrihari\n",
      "original string :  shrihari\n",
      "Encrypted String :  b'gAAAAABkc5aXndHy4R3NIeIJ6P60Fw3CwLgrqIoOLJAuRzcszSmP1zpGHHSvE-ZM2RCs5qw-rPFD5JC65ode8cXFLd85pqRmbQ=='\n",
      "decrypted string :  shrihari\n"
     ]
    }
   ],
   "source": [
    "import math\n",
    "from cryptography.fernet import Fernet\n",
    "\n",
    "def GCD(a,b):\n",
    "    if (b==0):\n",
    "        return a\n",
    "    else:\n",
    "        return(b,a%b)\n",
    "    \n",
    "p=int(input(\" p :\"))\n",
    "q=int(input(\" q :\"))\n",
    "\n",
    "n=p*q\n",
    "\n",
    "e=2\n",
    "k=2\n",
    "\n",
    "phi=(p-1)*(q-1)\n",
    "\n",
    "while(e<phi):\n",
    "    if(GCD(e,phi)==1):\n",
    "        break\n",
    "    else:\n",
    "        e+=1\n",
    "    \n",
    "d=int(((k*phi)+1)/e)\n",
    "\n",
    "\n",
    "print(f\"Public Key (e,n) : ({e},{n})\")\n",
    "print(f\"Private Key (d,n) : ({d},{n})\")\n",
    "\n",
    "msg = input(\"Enter you Message : \")\n",
    "\n",
    "\n",
    "key = Fernet.generate_key()\n",
    "\n",
    "fernet = Fernet(key)\n",
    "\n",
    "encryptedMSG = fernet.encrypt(msg.encode())\n",
    "decryptedMSG = fernet.decrypt(encryptedMSG).decode()\n",
    "\n",
    "print(\"original string : \", msg)\n",
    "print(\"Encrypted String : \", encryptedMSG)\n",
    "print(\"decrypted string : \", decryptedMSG)"
   ]
  },
  {
   "cell_type": "code",
   "execution_count": null,
   "id": "04c1c5bc",
   "metadata": {},
   "outputs": [],
   "source": []
  }
 ],
 "metadata": {
  "kernelspec": {
   "display_name": "Python 3 (ipykernel)",
   "language": "python",
   "name": "python3"
  },
  "language_info": {
   "codemirror_mode": {
    "name": "ipython",
    "version": 3
   },
   "file_extension": ".py",
   "mimetype": "text/x-python",
   "name": "python",
   "nbconvert_exporter": "python",
   "pygments_lexer": "ipython3",
   "version": "3.9.13"
  }
 },
 "nbformat": 4,
 "nbformat_minor": 5
}
