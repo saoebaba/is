{
 "cells": [
  {
   "cell_type": "code",
   "execution_count": 7,
   "id": "13cdfd62",
   "metadata": {},
   "outputs": [],
   "source": [
    "graph={\n",
    "    'A':['B','C','D'],\n",
    "    'B':['E'],\n",
    "    'C':['D'],\n",
    "    'D':['E'],\n",
    "    'E':[]\n",
    "}"
   ]
  },
  {
   "cell_type": "code",
   "execution_count": 9,
   "id": "b4a467d7",
   "metadata": {},
   "outputs": [
    {
     "name": "stdout",
     "output_type": "stream",
     "text": [
      "DFS search is : A B E C D "
     ]
    }
   ],
   "source": [
    "#dfs\n",
    "\n",
    "visited=set()\n",
    "\n",
    "def DFS(node,visited,graph):\n",
    "  if node not in visited:\n",
    "      print(node,end=\" \")\n",
    "      visited.add(node)\n",
    "  for i in graph[node]:\n",
    "     DFS(i,visited,graph)\n",
    "\n",
    "print(\"DFS search is : \",end=\"\")\n",
    "DFS('A',visited,graph)"
   ]
  },
  {
   "cell_type": "code",
   "execution_count": 10,
   "id": "eca4e513",
   "metadata": {},
   "outputs": [
    {
     "name": "stdout",
     "output_type": "stream",
     "text": [
      "BFS search is : A B C D E "
     ]
    }
   ],
   "source": [
    "\n",
    "#bfs\n",
    "\n",
    "visited=[]\n",
    "queue=[]\n",
    "\n",
    "def BFS(node,visited,graph):\n",
    "   visited.append(node)\n",
    "   queue.append(node)\n",
    "   while queue:\n",
    "      m=queue.pop(0)\n",
    "      print(m,end=\" \")\n",
    "      for neighbour in graph[m]:\n",
    "         if neighbour not in visited:\n",
    "            visited.append(neighbour)\n",
    "            queue.append(neighbour)\n",
    "\n",
    "print(\"BFS search is : \",end=\"\")\n",
    "BFS('A',visited,graph)"
   ]
  },
  {
   "cell_type": "code",
   "execution_count": null,
   "id": "994981c1",
   "metadata": {},
   "outputs": [],
   "source": []
  }
 ],
 "metadata": {
  "kernelspec": {
   "display_name": "Python 3 (ipykernel)",
   "language": "python",
   "name": "python3"
  },
  "language_info": {
   "codemirror_mode": {
    "name": "ipython",
    "version": 3
   },
   "file_extension": ".py",
   "mimetype": "text/x-python",
   "name": "python",
   "nbconvert_exporter": "python",
   "pygments_lexer": "ipython3",
   "version": "3.9.13"
  }
 },
 "nbformat": 4,
 "nbformat_minor": 5
}
